{
 "cells": [
  {
   "cell_type": "code",
   "execution_count": 4,
   "metadata": {},
   "outputs": [
    {
     "name": "stdout",
     "output_type": "stream",
     "text": [
      "Running on local URL:  http://127.0.0.1:7860\n",
      "\n",
      "Could not create share link. Please check your internet connection or our status page: https://status.gradio.app.\n"
     ]
    },
    {
     "data": {
      "text/html": [
       "<div><iframe src=\"http://127.0.0.1:7860/\" width=\"100%\" height=\"500\" allow=\"autoplay; camera; microphone; clipboard-read; clipboard-write;\" frameborder=\"0\" allowfullscreen></iframe></div>"
      ],
      "text/plain": [
       "<IPython.core.display.HTML object>"
      ]
     },
     "metadata": {},
     "output_type": "display_data"
    },
    {
     "name": "stdout",
     "output_type": "stream",
     "text": [
      "Keyboard interruption in main thread... closing server.\n"
     ]
    },
    {
     "data": {
      "text/plain": []
     },
     "execution_count": 4,
     "metadata": {},
     "output_type": "execute_result"
    }
   ],
   "source": [
    "import gradio as gr\n",
    "from transformers import PegasusForConditionalGeneration, PegasusTokenizer\n",
    "\n",
    "# Load pre-trained model and tokenizer\n",
    "model_name = r\"E:\\NIKHIL\\ML\\Text Summerizer Using Deep Learning\\models\\pegasus-fine_tuned_model\"  # Example Pegasus model\n",
    "tokenizer = PegasusTokenizer.from_pretrained(model_name)\n",
    "model = PegasusForConditionalGeneration.from_pretrained(model_name)\n",
    "\n",
    "def summarize_text(text):\n",
    "    inputs = tokenizer(text, return_tensors=\"pt\", max_length=1024, truncation=True, padding=True)\n",
    "\n",
    "    summary_ids = model.generate(\n",
    "        inputs[\"input_ids\"],\n",
    "        max_length=250,\n",
    "        min_length=30,  # Adjust max_length as needed\n",
    "        num_beams=5,\n",
    "        early_stopping=True\n",
    "    )\n",
    "    summary = tokenizer.decode(summary_ids[0], skip_special_tokens=True)\n",
    "    return summary\n",
    "\n",
    "# Custom CSS for styling\n",
    "custom_css = \"\"\"\n",
    ".gr-box {\n",
    "    border-radius: 10px;\n",
    "    padding: 20px;\n",
    "    box-shadow: 0 2px 10px rgba(0, 0, 0, 0.1);\n",
    "    margin: 20px 0;\n",
    "    background-color: #fff;\n",
    "}\n",
    "\n",
    ".gr-input, .gr-output {\n",
    "    border: 1px solid #ccc;\n",
    "    border-radius: 5px;\n",
    "    padding: 10px;\n",
    "    font-size: 16px;\n",
    "}\n",
    "\n",
    ".gr-button {\n",
    "    background-color: #007bff;\n",
    "    color: white;\n",
    "    padding: 10px 20px;\n",
    "    border: none;\n",
    "    border-radius: 5px;\n",
    "    font-size: 16px;\n",
    "    cursor: pointer;\n",
    "    transition: background-color 0.3s;\n",
    "}\n",
    "\n",
    ".gr-button:hover {\n",
    "    background-color: #0056b3;\n",
    "}\n",
    "\"\"\"\n",
    "\n",
    "# Create a visually appealing Gradio interface\n",
    "interface = gr.Interface(\n",
    "    fn=summarize_text,\n",
    "    inputs=gr.Textbox(\n",
    "    \n",
    "        lines=30,\n",
    "        placeholder=\"Paste your text here...\",\n",
    "        label=\"Input Text\",\n",
    "        elem_classes=\"gr-input\"  # Apply custom CSS class\n",
    "    ),\n",
    "    outputs=gr.Textbox(\n",
    "        lines=30,\n",
    "        label=\"Concise Summary\",\n",
    "        elem_classes=\"gr-output\"  # Apply custom CSS class\n",
    "    ),\n",
    "    title=\"Pegasus Text Summarizer\",\n",
    "    description=\"Get a clear and concise summary of your text in seconds!\",\n",
    "    theme=\"default\",  # Use a built-in theme\n",
    "    css=custom_css  # Add custom CSS\n",
    ")\n",
    "\n",
    "# Launch the interface\n",
    "interface.launch(\n",
    "    share=True,\n",
    "    debug=True  # Enable debug mode for error handling (optional)\n",
    ")\n"
   ]
  }
 ],
 "metadata": {
  "kernelspec": {
   "display_name": "base",
   "language": "python",
   "name": "python3"
  },
  "language_info": {
   "codemirror_mode": {
    "name": "ipython",
    "version": 3
   },
   "file_extension": ".py",
   "mimetype": "text/x-python",
   "name": "python",
   "nbconvert_exporter": "python",
   "pygments_lexer": "ipython3",
   "version": "3.12.3"
  }
 },
 "nbformat": 4,
 "nbformat_minor": 2
}
